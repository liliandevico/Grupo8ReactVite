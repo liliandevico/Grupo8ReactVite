{
  "nbformat": 4,
  "nbformat_minor": 0,
  "metadata": {
    "colab": {
      "provenance": [],
      "authorship_tag": "ABX9TyO0xz6p9I+3qqINaj6JA0P6",
      "include_colab_link": true
    },
    "kernelspec": {
      "name": "python3",
      "display_name": "Python 3"
    },
    "language_info": {
      "name": "python"
    }
  },
  "cells": [
    {
      "cell_type": "markdown",
      "metadata": {
        "id": "view-in-github",
        "colab_type": "text"
      },
      "source": [
        "<a href=\"https://colab.research.google.com/github/liliandevico/Grupo8ReactVite/blob/master/Practica_Clase_1_python_para_Analisis_de_Datos.ipynb\" target=\"_parent\"><img src=\"https://colab.research.google.com/assets/colab-badge.svg\" alt=\"Open In Colab\"/></a>"
      ]
    },
    {
      "cell_type": "code",
      "execution_count": 1,
      "metadata": {
        "colab": {
          "base_uri": "https://localhost:8080/"
        },
        "id": "YdTFMun7G8K0",
        "outputId": "44c2f27e-adbd-4c8c-e6d3-7ba35561ad13"
      },
      "outputs": [
        {
          "output_type": "stream",
          "name": "stdout",
          "text": [
            "Con la compra del Microprocesador Intel I5 - valor 1000 y el Placa de video Nvidia - valor 1500 se obtiene de regalo un juego de Juego de teclado y mouse - valor 200- \n"
          ]
        }
      ],
      "source": [
        "producto1 = \"Microprocesador Intel I5\"\n",
        "producto2 = \"Placa de video Nvidia\"\n",
        "producto3 = \"Juego de teclado y mouse\"\n",
        "precio1 = 1000\n",
        "precio2 = 1500\n",
        "precio3 = 200\n",
        "\n",
        "# Imprimir mensaje\n",
        "print(f\"Con la compra del {producto1} - valor {precio1} y el {producto2} - valor {precio2} se obtiene de regalo un juego de {producto3} - valor {precio3}- \")"
      ]
    },
    {
      "cell_type": "code",
      "source": [
        "prod1 = \"Salame Fuet - Cagnoli -\"\n",
        "prod2 = \"Malbec Reserva Palo Alto\"\n",
        "prod3 = \"Queso Gouda\"\n",
        "prec1 = 9000\n",
        "prec2 = 15000\n",
        "prec3 = 4000\n",
        "print(f\"Con la compra de un {prod1} cuyo precio es de ${prec1} y una botella de {prod2} cuyo precio es de ${prec2} te bonificamos un {prod3} cuyo precio es de ${prec3}\")"
      ],
      "metadata": {
        "colab": {
          "base_uri": "https://localhost:8080/"
        },
        "id": "ojGIQ0DCHEMX",
        "outputId": "63636f0f-72c9-4ba0-eabc-9cb98c0c51e0"
      },
      "execution_count": 2,
      "outputs": [
        {
          "output_type": "stream",
          "name": "stdout",
          "text": [
            "Con la compra de un Salame Fuet - Cagnoli - cuyo precio es de $9000 y una botella de Malbec Reserva Palo Alto cuyo precio es de $15000 te bonificamos un Queso Gouda cuyo precio es de $4000\n"
          ]
        }
      ]
    }
  ]
}